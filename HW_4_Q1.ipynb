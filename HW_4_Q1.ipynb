{
  "nbformat": 4,
  "nbformat_minor": 0,
  "metadata": {
    "colab": {
      "provenance": []
    },
    "kernelspec": {
      "name": "python3",
      "display_name": "Python 3"
    },
    "language_info": {
      "name": "python"
    }
  },
  "cells": [
    {
      "cell_type": "code",
      "execution_count": 126,
      "metadata": {
        "id": "Q2G1fvjciOQT"
      },
      "outputs": [],
      "source": [
        "import numpy as np"
      ]
    },
    {
      "cell_type": "markdown",
      "source": [
        "#**Initialize Inputs**"
      ],
      "metadata": {
        "id": "QPgJd9AC8wQ4"
      }
    },
    {
      "cell_type": "code",
      "source": [
        "X1=np.array([[2],[4],[2]])\n",
        "X2=np.array([[4],[2],[4]])\n",
        "X=np.array([X1,X2], dtype=object)\n",
        "y1 = 2\n",
        "y2 = 4\n",
        "Y=np.array([y1,y2], dtype=object)"
      ],
      "metadata": {
        "id": "VCAbVibXidBM"
      },
      "execution_count": 127,
      "outputs": []
    },
    {
      "cell_type": "markdown",
      "source": [
        "#**Initialize Weights**"
      ],
      "metadata": {
        "id": "2pY7gPuY8hYu"
      }
    },
    {
      "cell_type": "code",
      "source": [
        "W1=np.transpose(np.array([[0.12,0.24],[0.32,0.44],[0.52,0.44]]))\n",
        "W2=np.transpose(np.array([[2.15,2.25,2.35],[4.45,4.55,4.65]]))\n",
        "W3=np.transpose(np.array([[8.12,8.22],[8.32,8.42],[8.52,8.62]]))\n",
        "W4=np.transpose(np.array([[-1.84],[-1.64]]))\n",
        "W = np.array([W1, W2, W3, W4], dtype=object)"
      ],
      "metadata": {
        "id": "JQ5cnJa78gk4"
      },
      "execution_count": 128,
      "outputs": []
    },
    {
      "cell_type": "markdown",
      "source": [
        "#**Initialize Bias**"
      ],
      "metadata": {
        "id": "d9dp3qEZ8uAX"
      }
    },
    {
      "cell_type": "code",
      "source": [
        "B1=np.array([[0.21],[0.42]])\n",
        "B2=np.array([[6.15],[6.25],[6.35]])\n",
        "B3=np.array([[0.52],[0.62]])\n",
        "B4=2.26\n",
        "B = np.array([B1, B2, B3, B4], dtype=object)"
      ],
      "metadata": {
        "id": "t3S5E89_76kz"
      },
      "execution_count": 129,
      "outputs": []
    },
    {
      "cell_type": "markdown",
      "source": [
        "#**Required Functions**"
      ],
      "metadata": {
        "id": "1eBmOsZr_F4c"
      }
    },
    {
      "cell_type": "code",
      "source": [
        "#Weighted Sum\n",
        "def ws(x,w,b):\n",
        "  s=np.dot(w,x)+b\n",
        "  return s"
      ],
      "metadata": {
        "id": "ZtMih-Jo_M2_"
      },
      "execution_count": 130,
      "outputs": []
    },
    {
      "cell_type": "code",
      "source": [
        "def ReLU(x):\n",
        "  if x>0:\n",
        "    return x\n",
        "  else:\n",
        "    return 0"
      ],
      "metadata": {
        "id": "niIvB1ZKCFJU"
      },
      "execution_count": 131,
      "outputs": []
    },
    {
      "cell_type": "code",
      "source": [
        "def sigmoid(x):\n",
        "  return 1./(1+np.exp(-x))"
      ],
      "metadata": {
        "id": "nRR6-DDzCWT6"
      },
      "execution_count": 132,
      "outputs": []
    },
    {
      "cell_type": "code",
      "source": [
        "def loss(y_hat,y):\n",
        "  return 0.5*(y_hat-y)**2"
      ],
      "metadata": {
        "id": "LUiq0F7ADnLj"
      },
      "execution_count": 133,
      "outputs": []
    },
    {
      "cell_type": "code",
      "source": [
        "def grad_b(X,y,y_hat,W,B,S):\n",
        "  e=(y_hat-y)\n",
        "  db4=e*np.heaviside(S[3],1)\n",
        "  db3=np.transpose(W[3])*db4*(1-(np.tanh(S[2].astype(float)))**2)\n",
        "  db2=np.dot(np.transpose(W[2]),db3)*sigmoid(S[1])*(1-sigmoid(S[1]))\n",
        "  db1=np.dot(np.transpose(W[1]),db2)*(1-(np.tanh(S[0].astype(float)))**2)\n",
        "  return db1,db2,db3,db4"
      ],
      "metadata": {
        "id": "J3oK0rTnQ96L"
      },
      "execution_count": 161,
      "outputs": []
    },
    {
      "cell_type": "code",
      "source": [
        "def grad_w(X,y,y_hat,W,B,S):\n",
        "  db1,db2,db3,db4=grad_b(X,y,y_hat,W,B,S)\n",
        "  e=(y_hat-y)\n",
        "  dw4=np.dot(db4,np.transpose(np.tanh(S[2].astype(float))))\n",
        "  dw3=np.dot(db3,np.transpose(sigmoid(S[1])))\n",
        "  dw2=np.dot(db2,np.transpose(np.tanh(S[2].astype(float))))\n",
        "  dw1=np.dot(db1,np.transpose(X))\n",
        "  return dw1,dw2,dw3,dw4"
      ],
      "metadata": {
        "id": "bKXARTjZTM6R"
      },
      "execution_count": 162,
      "outputs": []
    },
    {
      "cell_type": "markdown",
      "source": [
        "#**Feed Forward**"
      ],
      "metadata": {
        "id": "v8zWro0y9zZe"
      }
    },
    {
      "cell_type": "code",
      "source": [
        "def forward(X,W,B):\n",
        "\n",
        "  S1=ws(X,W[0],B[0])\n",
        "  a1=np.tanh(S1.astype(float))\n",
        "  \n",
        "  S2=ws(a1,W[1],B[1]) \n",
        "  a2=sigmoid(S2)\n",
        "    \n",
        "  S3=ws(a2,W[2],B[2])\n",
        "  a3=np.tanh(S3.astype(float))\n",
        "\n",
        "  S4=ws(a3,W[3],B[3])\n",
        "  a4=ReLU(S4)\n",
        "  y_hat=a4\n",
        "\n",
        "  S = np.array([S1, S2, S3, S4], dtype=object)\n",
        "\n",
        "  return y_hat,S"
      ],
      "metadata": {
        "id": "k-bJ2ORD9xAp"
      },
      "execution_count": 158,
      "outputs": []
    },
    {
      "cell_type": "markdown",
      "source": [
        "#**Back Propagation**"
      ],
      "metadata": {
        "id": "SKFbdamHG-4o"
      }
    },
    {
      "cell_type": "code",
      "source": [
        "def Backpropagation(X,Y,W,B,learning_rate=0.1):\n",
        "  for i in range(2):\n",
        "    y_hat,S=forward(X[i],W,B)\n",
        "    db1,db2,db3,db4=grad_b(X[i],Y[i],y_hat,W,B,S)\n",
        "    dw1,dw2,dw3,dw4=grad_w(X[i],Y[i],y_hat,W,B,S)\n",
        "    W[3]=W[3]-learning_rate*dw4\n",
        "    B[3]=B[3]-learning_rate*db4\n",
        "\n",
        "    W[2]=W[2]-learning_rate*dw3\n",
        "    B[2]=B[2]-learning_rate*db3\n",
        "\n",
        "    W[1]=W[1]-learning_rate*dw2\n",
        "    B[1]=B[1]-learning_rate*db2\n",
        "\n",
        "    W[0]=W[0]-learning_rate*dw1\n",
        "    B[0]=B[0]-learning_rate*db1\n",
        "\n",
        "  return W,B"
      ],
      "metadata": {
        "id": "zHylCBYEHDRh"
      },
      "execution_count": 163,
      "outputs": []
    },
    {
      "cell_type": "code",
      "source": [
        "W,B=Backpropagation(X,Y,W,B)\n",
        "W_names=['W1','W2','W3','W4']\n",
        "B_names=['B1','B2','B3','B4']\n",
        "for i in range(4):\n",
        "  if i==0 : print('Weights:')\n",
        "  print(f'{W_names[i]} = {W[i]}\\n')\n",
        "for i in range(4): \n",
        "  if i==0 : print('Bias:') \n",
        "  print(f'{B_names[i]} = {B[i]}\\n')"
      ],
      "metadata": {
        "colab": {
          "base_uri": "https://localhost:8080/"
        },
        "id": "WTa75zVLaBI9",
        "outputId": "8976ae43-413b-4a61-cee0-984d05a140cb"
      },
      "execution_count": 174,
      "outputs": [
        {
          "output_type": "stream",
          "name": "stdout",
          "text": [
            "Weights:\n",
            "W1 = [[0.12 0.32 0.52]\n",
            " [0.24 0.44 0.44]]\n",
            "\n",
            "W2 = [[2.15 4.45]\n",
            " [2.25 4.55]\n",
            " [2.35 4.65]]\n",
            "\n",
            "W3 = [[8.12 8.32 8.52]\n",
            " [8.22 8.42 8.62]]\n",
            "\n",
            "W4 = [[-1.84 -1.64]]\n",
            "\n",
            "Bias:\n",
            "B1 = [[0.21]\n",
            " [0.42]]\n",
            "\n",
            "B2 = [[6.15]\n",
            " [6.25]\n",
            " [6.35]]\n",
            "\n",
            "B3 = [[0.52]\n",
            " [0.62]]\n",
            "\n",
            "B4 = [[2.26]]\n",
            "\n"
          ]
        }
      ]
    }
  ]
}